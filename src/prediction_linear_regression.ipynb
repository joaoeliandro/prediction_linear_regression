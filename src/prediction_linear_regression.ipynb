{
  "nbformat": 4,
  "nbformat_minor": 0,
  "metadata": {
    "colab": {
      "name": "prediction_linear_regression.ipynb",
      "provenance": [],
      "authorship_tag": "ABX9TyNhFhqy9yfiObSUp9cGQv/s",
      "include_colab_link": true
    },
    "kernelspec": {
      "name": "python3",
      "display_name": "Python 3"
    },
    "language_info": {
      "name": "python"
    }
  },
  "cells": [
    {
      "cell_type": "markdown",
      "metadata": {
        "id": "view-in-github",
        "colab_type": "text"
      },
      "source": [
        "<a href=\"https://colab.research.google.com/github/joaoeliandro/prediction_linear_regression/blob/main/src/prediction_linear_regression.ipynb\" target=\"_parent\"><img src=\"https://colab.research.google.com/assets/colab-badge.svg\" alt=\"Open In Colab\"/></a>"
      ]
    },
    {
      "cell_type": "markdown",
      "metadata": {
        "id": "zMJycMYxJaIN"
      },
      "source": [
        "Importing libs"
      ]
    },
    {
      "cell_type": "code",
      "metadata": {
        "id": "I7tZhXekIbZe"
      },
      "source": [
        "from matplotlib import pyplot as plt\n",
        "import pandas as pd\n",
        "import pylab as pl\n",
        "import numpy as np\n",
        "from sklearn import linear_model\n",
        "from sklearn.metrics import r2_score, mean_squared_error,mean_absolute_error\n",
        "from sklearn.model_selection import train_test_split\n",
        "from math import sqrt"
      ],
      "execution_count": 1,
      "outputs": []
    },
    {
      "cell_type": "markdown",
      "metadata": {
        "id": "YEbNUzWnJk-V"
      },
      "source": [
        "Download dataset"
      ]
    },
    {
      "cell_type": "code",
      "metadata": {
        "colab": {
          "base_uri": "https://localhost:8080/"
        },
        "id": "EM4jwwFQJmye",
        "outputId": "8b012b5a-a0df-4ac3-80a5-c6476fad0b11"
      },
      "source": [
        "!pip3 install wget\n",
        "!wget https://raw.githubusercontent.com/diogocortiz/Curso-IA-para-todos/master/RegressaoLinear/FuelConsumptionCo2.csv"
      ],
      "execution_count": 2,
      "outputs": [
        {
          "output_type": "stream",
          "name": "stdout",
          "text": [
            "Collecting wget\n",
            "  Downloading wget-3.2.zip (10 kB)\n",
            "Building wheels for collected packages: wget\n",
            "  Building wheel for wget (setup.py) ... \u001b[?25l\u001b[?25hdone\n",
            "  Created wheel for wget: filename=wget-3.2-py3-none-any.whl size=9672 sha256=9e59369a7266cdcbc3faa1dbe841edaf7bad66d9aa9d5204798cc815e40f4f87\n",
            "  Stored in directory: /root/.cache/pip/wheels/a1/b6/7c/0e63e34eb06634181c63adacca38b79ff8f35c37e3c13e3c02\n",
            "Successfully built wget\n",
            "Installing collected packages: wget\n",
            "Successfully installed wget-3.2\n",
            "--2021-12-04 01:56:11--  https://raw.githubusercontent.com/diogocortiz/Curso-IA-para-todos/master/RegressaoLinear/FuelConsumptionCo2.csv\n",
            "Resolving raw.githubusercontent.com (raw.githubusercontent.com)... 185.199.108.133, 185.199.109.133, 185.199.111.133, ...\n",
            "Connecting to raw.githubusercontent.com (raw.githubusercontent.com)|185.199.108.133|:443... connected.\n",
            "HTTP request sent, awaiting response... 200 OK\n",
            "Length: 72629 (71K) [text/plain]\n",
            "Saving to: ‘FuelConsumptionCo2.csv’\n",
            "\n",
            "FuelConsumptionCo2. 100%[===================>]  70.93K  --.-KB/s    in 0.002s  \n",
            "\n",
            "2021-12-04 01:56:11 (39.6 MB/s) - ‘FuelConsumptionCo2.csv’ saved [72629/72629]\n",
            "\n"
          ]
        }
      ]
    },
    {
      "cell_type": "markdown",
      "metadata": {
        "id": "dXa2crXNKA0N"
      },
      "source": [
        "Load the dataset to dataframe "
      ]
    },
    {
      "cell_type": "code",
      "metadata": {
        "colab": {
          "base_uri": "https://localhost:8080/"
        },
        "id": "dy4kJj3FKOqX",
        "outputId": "f6c52159-3260-40df-8d62-ca5513aa4dc2"
      },
      "source": [
        "df = pd.read_csv('FuelConsumptionCo2.csv')\n",
        "print(df.head())"
      ],
      "execution_count": 4,
      "outputs": [
        {
          "output_type": "stream",
          "name": "stdout",
          "text": [
            "   MODELYEAR   MAKE  ... FUELCONSUMPTION_COMB_MPG CO2EMISSIONS\n",
            "0       2014  ACURA  ...                       33          196\n",
            "1       2014  ACURA  ...                       29          221\n",
            "2       2014  ACURA  ...                       48          136\n",
            "3       2014  ACURA  ...                       25          255\n",
            "4       2014  ACURA  ...                       27          244\n",
            "\n",
            "[5 rows x 13 columns]\n"
          ]
        }
      ]
    },
    {
      "cell_type": "markdown",
      "metadata": {
        "id": "N1i56dTuLvGm"
      },
      "source": [
        "Select features"
      ]
    },
    {
      "cell_type": "code",
      "metadata": {
        "colab": {
          "base_uri": "https://localhost:8080/"
        },
        "id": "ZN1PXte1L3lF",
        "outputId": "685edb40-0e6e-45a4-fe69-618a90153f9c"
      },
      "source": [
        "motors = df[['ENGINESIZE']]\n",
        "co2 = df[['CO2EMISSIONS']]\n",
        "\n",
        "print(motors.head())"
      ],
      "execution_count": 7,
      "outputs": [
        {
          "output_type": "stream",
          "name": "stdout",
          "text": [
            "   ENGINESIZE\n",
            "0         2.0\n",
            "1         2.4\n",
            "2         1.5\n",
            "3         3.5\n",
            "4         3.5\n"
          ]
        }
      ]
    },
    {
      "cell_type": "markdown",
      "metadata": {
        "id": "5sMhnSBZMTXD"
      },
      "source": [
        "Separation dataset test and dataset train"
      ]
    },
    {
      "cell_type": "code",
      "metadata": {
        "colab": {
          "base_uri": "https://localhost:8080/"
        },
        "id": "OsxC8LLvMbhb",
        "outputId": "3885cb00-4701-4f57-eb8b-972e3eb2679f"
      },
      "source": [
        "motors_train, motors_test, co2_train, co2_test = train_test_split(motors, co2, test_size=0.2, random_state=42)\n",
        "print(type(motors_train))"
      ],
      "execution_count": 8,
      "outputs": [
        {
          "output_type": "stream",
          "name": "stdout",
          "text": [
            "<class 'pandas.core.frame.DataFrame'>\n"
          ]
        }
      ]
    },
    {
      "cell_type": "markdown",
      "metadata": {
        "id": "aniYulbWm90y"
      },
      "source": [
        "Plot correlation features"
      ]
    },
    {
      "cell_type": "code",
      "metadata": {
        "colab": {
          "base_uri": "https://localhost:8080/",
          "height": 280
        },
        "id": "be3x8PsinJaB",
        "outputId": "18e9696d-6113-45b4-bb2b-42436d81d2bf"
      },
      "source": [
        "plt.scatter(motors_train, co2_train, color='green')\n",
        "plt.xlabel('Motor')\n",
        "plt.ylabel('CO2')\n",
        "plt.show()"
      ],
      "execution_count": 11,
      "outputs": [
        {
          "output_type": "display_data",
          "data": {
            "image/png": "[encoded data removed]",
            "text/plain": [
              "<Figure size 432x288 with 1 Axes>"
            ]
          },
          "metadata": {
            "needs_background": "light"
          }
        }
      ]
    },
    {
      "cell_type": "markdown",
      "metadata": {
        "id": "dPXXwcrqnnFs"
      },
      "source": [
        "Train model"
      ]
    },
    {
      "cell_type": "code",
      "metadata": {
        "colab": {
          "base_uri": "https://localhost:8080/"
        },
        "id": "khurFS8pnpjM",
        "outputId": "5e78c910-c520-4c49-839b-326969376b97"
      },
      "source": [
        "model = linear_model.LinearRegression()\n",
        "\n",
        "model.fit(motors_train, co2_train)"
      ],
      "execution_count": 16,
      "outputs": [
        {
          "output_type": "execute_result",
          "data": {
            "text/plain": [
              "LinearRegression()"
            ]
          },
          "metadata": {},
          "execution_count": 16
        }
      ]
    },
    {
      "cell_type": "markdown",
      "metadata": {
        "id": "rBIhox9uoUHV"
      },
      "source": [
        "Show coefficient"
      ]
    },
    {
      "cell_type": "code",
      "metadata": {
        "colab": {
          "base_uri": "https://localhost:8080/"
        },
        "id": "G50J9yz6oatx",
        "outputId": "0d7c1bf9-836e-4c75-c6a6-f467ac106cd1"
      },
      "source": [
        "print('A: ', model.intercept_)\n",
        "print('B: ', model.coef_)"
      ],
      "execution_count": 17,
      "outputs": [
        {
          "output_type": "stream",
          "name": "stdout",
          "text": [
            "A:  [126.28970217]\n",
            "B:  [[38.99297872]]\n"
          ]
        }
      ]
    },
    {
      "cell_type": "markdown",
      "metadata": {
        "id": "X8FX_xlbqphT"
      },
      "source": [
        "Plot straight and correlation (Dataset train)"
      ]
    },
    {
      "cell_type": "code",
      "metadata": {
        "colab": {
          "base_uri": "https://localhost:8080/",
          "height": 280
        },
        "id": "WqkA1WtzqtKY",
        "outputId": "f4036be1-2dac-41c3-a599-56fbdfee2530"
      },
      "source": [
        "plt.scatter(motors_train, co2_train, color='green')\n",
        "plt.plot(motors_train, model.coef_[0][0] * motors_train + model.intercept_[0], '-r')\n",
        "plt.xlabel('Motor')\n",
        "plt.ylabel('CO2')\n",
        "plt.show()"
      ],
      "execution_count": 21,
      "outputs": [
        {
          "output_type": "display_data",
          "data": {
            "image/png": "[encoded data removed]",
            "text/plain": [
              "<Figure size 432x288 with 1 Axes>"
            ]
          },
          "metadata": {
            "needs_background": "light"
          }
        }
      ]
    },
    {
      "cell_type": "markdown",
      "metadata": {
        "id": "n9WNI_bHqIDR"
      },
      "source": [
        "Model prediction"
      ]
    },
    {
      "cell_type": "code",
      "metadata": {
        "id": "AGCbfzZQqP7a"
      },
      "source": [
        "predictionsCo2 = model.predict(motors_test)"
      ],
      "execution_count": 19,
      "outputs": []
    },
    {
      "cell_type": "markdown",
      "metadata": {
        "id": "p5Prp0gZotPr"
      },
      "source": [
        "Plot straight and correlation (Dataset test)"
      ]
    },
    {
      "cell_type": "code",
      "metadata": {
        "colab": {
          "base_uri": "https://localhost:8080/",
          "height": 279
        },
        "id": "1rybPBtDo8G2",
        "outputId": "4cbdcb47-7d79-4fc0-c3a7-7008b9bb8909"
      },
      "source": [
        "plt.scatter(motors_test, co2_test, color='green')\n",
        "plt.plot(motors_test, model.coef_[0][0] * motors_test + model.intercept_[0], '-r')\n",
        "plt.xlabel('Motor')\n",
        "plt.ylabel('CO2')\n",
        "plt.show()"
      ],
      "execution_count": 18,
      "outputs": [
        {
          "output_type": "display_data",
          "data": {
            "image/png": "[encoded data removed]",
            "text/plain": [
              "<Figure size 432x288 with 1 Axes>"
            ]
          },
          "metadata": {
            "needs_background": "light"
          }
        }
      ]
    },
    {
      "cell_type": "markdown",
      "metadata": {
        "id": "VWlEBrYgp5vj"
      },
      "source": [
        "Model analyze"
      ]
    },
    {
      "cell_type": "code",
      "metadata": {
        "colab": {
          "base_uri": "https://localhost:8080/"
        },
        "id": "A6ucqOPbp7Yn",
        "outputId": "5cbba49e-cdde-4e84-ce31-7753c394e078"
      },
      "source": [
        "print(\"Sum of squares of errors (SSE): %.2f \" % np.sum((predictionsCo2 - co2_test)**2))\n",
        "print(\"Mean squared error (MSE): %.2f\" % mean_squared_error(co2_test, predictionsCo2))\n",
        "print(\"Mean absolute error (MAE): %.2f\" % mean_absolute_error(co2_test, predictionsCo2))\n",
        "print (\"Root Mean Squared Error (RMSE): %.2f \" % sqrt(mean_squared_error(co2_test, predictionsCo2)))\n",
        "print(\"R2-score: %.2f\" % r2_score(co2_test, predictionsCo2) )"
      ],
      "execution_count": 22,
      "outputs": [
        {
          "output_type": "stream",
          "name": "stdout",
          "text": [
            "Sum of squares of errors (SSE): 210990.77 \n",
            "Mean squared error (MSE): 985.94\n",
            "Mean absolute error (MAE): 24.10\n",
            "Root Mean Squared Error (RMSE): 31.40 \n",
            "R2-score: 0.76\n"
          ]
        }
      ]
    }
  ]
}